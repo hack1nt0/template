{
 "cells": [
  {
   "cell_type": "markdown",
   "metadata": {},
   "source": [
    "# 概念\n",
    "\n",
    "#### 什么是AI？制造一个Intelligent Agent，它能perceive, reason, and act.\n",
    "\n",
    "### AI问题的几个分类方法：\n",
    "\n",
    "问题 \\ 分类方法 | （环境）局部可见 | （环境）状态的随机转移性 |（输入信号和输出动作空间）是否无限 | （环境和Agent）是否在博弈\n",
    "-------- | ---- | ------\n",
    "围棋  | No | No | No | Yes   \n",
    "自动驾驶汽车  | Yes | Yes  | Yes  | No\n",
    "打牌  | Yes | Yes | No | Yes"
   ]
  },
  {
   "cell_type": "markdown",
   "metadata": {},
   "source": [
    "# 模型"
   ]
  },
  {
   "cell_type": "markdown",
   "metadata": {},
   "source": [
    "# 算法"
   ]
  },
  {
   "cell_type": "code",
   "execution_count": null,
   "metadata": {
    "collapsed": true
   },
   "outputs": [],
   "source": []
  }
 ],
 "metadata": {
  "kernelspec": {
   "display_name": "Python 2",
   "language": "python",
   "name": "python2"
  },
  "language_info": {
   "codemirror_mode": {
    "name": "ipython",
    "version": 2
   },
   "file_extension": ".py",
   "mimetype": "text/y-python",
   "name": "python",
   "nbconvert_exporter": "python",
   "pygments_lexer": "ipython2",
   "version": "2.7.12"
  }
 },
 "nbformat": 4,
 "nbformat_minor": 0
}
